{
 "cells": [
  {
   "cell_type": "code",
   "execution_count": 2,
   "id": "523f299d-7049-4e64-a70a-5ec0ad0ea7f5",
   "metadata": {},
   "outputs": [],
   "source": [
    "import pandas as pd\n",
    "import psycopg2\n",
    "from sqlalchemy import create_engine"
   ]
  },
  {
   "cell_type": "code",
   "execution_count": 2,
   "id": "ee403013-dfef-44b7-8f61-a709823f8f58",
   "metadata": {},
   "outputs": [],
   "source": [
    "file_path = \"C:/Users/sivap/OneDrive/Documents/archive (1)/telco.csv\""
   ]
  },
  {
   "cell_type": "code",
   "execution_count": 3,
   "id": "3d31870f-5e50-4829-bf12-b413d7a79b23",
   "metadata": {},
   "outputs": [],
   "source": [
    "df = pd.read_csv(file_path)"
   ]
  },
  {
   "cell_type": "code",
   "execution_count": 4,
   "id": "3ee4793f-c953-4d1e-b5f4-3f76b5a95398",
   "metadata": {},
   "outputs": [],
   "source": [
    "conn = psycopg2.connect(\n",
    "    host=\"localhost\",  # Replace with your database host\n",
    "    database=\"teleco\",  # Replace with your database name\n",
    "    user=\"postgres\",  # Replace with your username\n",
    "    password=\"password\")"
   ]
  },
  {
   "cell_type": "code",
   "execution_count": 5,
   "id": "dbb88b60-6e27-4781-bb0b-41fdf1d89751",
   "metadata": {},
   "outputs": [],
   "source": [
    "cursor = conn.cursor()"
   ]
  },
  {
   "cell_type": "code",
   "execution_count": 6,
   "id": "5e866026-6a88-46de-a96a-d60748f9849c",
   "metadata": {},
   "outputs": [],
   "source": [
    "insert_query = \"\"\"\n",
    "INSERT INTO telecom_analysis (\n",
    "    customer_id, gender, age, under_30, senior_citizen, married, dependents, \n",
    "    number_of_dependents, country, state, city, zip_code, latitude, longitude, \n",
    "    population, quarter, referred_a_friend, number_of_referrals, tenure_in_months, \n",
    "    offer, phone_service, avg_monthly_long_distance_charges, multiple_lines, \n",
    "    internet_service, internet_type, avg_monthly_gb_download, online_security, \n",
    "    online_backup, device_protection_plan, premium_tech_support, streaming_tv, \n",
    "    streaming_movies, streaming_music, unlimited_data, contract, paperless_billing, \n",
    "    payment_method, monthly_charge, total_charges, total_refunds, total_extra_data_charges, \n",
    "    total_long_distance_charges, total_revenue, satisfaction_score, customer_status, \n",
    "    churn_label, churn_score, cltv, churn_category, churn_reason\n",
    ") VALUES (\n",
    "    %s, %s, %s, %s, %s, %s, %s, %s, %s, %s, %s, %s, %s, %s, %s, %s, %s, %s, %s, %s, %s, %s, \n",
    "    %s, %s, %s, %s, %s, %s, %s, %s, %s, %s, %s, %s, %s, %s, %s, %s, %s, %s, %s, %s, %s, %s, \n",
    "    %s, %s, %s, %s, %s, %s\n",
    ");\n",
    "\"\"\""
   ]
  },
  {
   "cell_type": "code",
   "execution_count": 7,
   "id": "f9b541b3-7a61-4660-8a33-9ca1afb7bf73",
   "metadata": {},
   "outputs": [],
   "source": [
    "for index, row in df.iterrows():\n",
    "    cursor.execute(insert_query, tuple(row))"
   ]
  },
  {
   "cell_type": "code",
   "execution_count": 8,
   "id": "2cd5bc84-acbc-4e6f-b514-496758fd420f",
   "metadata": {},
   "outputs": [],
   "source": [
    "conn.commit()\n",
    "cursor.close()\n",
    "conn.close()"
   ]
  },
  {
   "cell_type": "code",
   "execution_count": null,
   "id": "c9a695d9-23cb-4d44-af80-2c4fce1a5d6f",
   "metadata": {},
   "outputs": [],
   "source": []
  }
 ],
 "metadata": {
  "kernelspec": {
   "display_name": "Python 3 (ipykernel)",
   "language": "python",
   "name": "python3"
  },
  "language_info": {
   "codemirror_mode": {
    "name": "ipython",
    "version": 3
   },
   "file_extension": ".py",
   "mimetype": "text/x-python",
   "name": "python",
   "nbconvert_exporter": "python",
   "pygments_lexer": "ipython3",
   "version": "3.12.6"
  }
 },
 "nbformat": 4,
 "nbformat_minor": 5
}
